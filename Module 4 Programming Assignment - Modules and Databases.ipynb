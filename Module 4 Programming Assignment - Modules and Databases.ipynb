{
 "cells": [
  {
   "cell_type": "markdown",
   "id": "136c3732-fa33-4879-a8f3-74375a4c4ca1",
   "metadata": {},
   "source": [
    "11.1 Create a file called zoo.py. In it, define a function called hours() that prints the string 'Open 9-5 daily'. Then, use the interactive interpreter to import the zoo module and call its hours() function."
   ]
  },
  {
   "cell_type": "code",
   "execution_count": 2,
   "id": "4bd3aaa5-57ed-44ac-ab6f-d49477c24868",
   "metadata": {},
   "outputs": [],
   "source": [
    "import zoo"
   ]
  },
  {
   "cell_type": "code",
   "execution_count": 3,
   "id": "ce7057f4-e553-4656-92db-ea34d4596c6a",
   "metadata": {},
   "outputs": [
    {
     "name": "stdout",
     "output_type": "stream",
     "text": [
      "Open 9-5 daily\n"
     ]
    }
   ],
   "source": [
    "zoo.hours()"
   ]
  },
  {
   "cell_type": "markdown",
   "id": "a7b58616-ab30-4fe9-9583-e4247b4588af",
   "metadata": {},
   "source": [
    "11.2 In the interactive interpreter, import the zoo module as menagerie and call its hours() function."
   ]
  },
  {
   "cell_type": "code",
   "execution_count": 7,
   "id": "b7ba08e3-1c9f-4349-8401-9a8521bb5fdf",
   "metadata": {},
   "outputs": [],
   "source": [
    "import zoo as menagerie"
   ]
  },
  {
   "cell_type": "code",
   "execution_count": 9,
   "id": "d816c9c2-8a9b-45fa-bdc4-d132cd433e13",
   "metadata": {},
   "outputs": [
    {
     "name": "stdout",
     "output_type": "stream",
     "text": [
      "Open 9-5 daily\n"
     ]
    }
   ],
   "source": [
    "menagerie.hours()"
   ]
  },
  {
   "cell_type": "markdown",
   "id": "ff71c7de-dd0e-4867-b546-2753e87038f6",
   "metadata": {},
   "source": [
    "16.3 Create a CSV file called books.csv by using these lines:\n",
    "title,author,year\n",
    "The Weirdstone of Brisingamen,Alan Garner,1960\n",
    "Perdido Street Station,China Miéville,2000\n",
    "Thud!,Terry Pratchett,2005\n",
    "The Spellman Files,Lisa Lutz,2007\n",
    "Small Gods,Terry Pratchett,1992"
   ]
  },
  {
   "cell_type": "code",
   "execution_count": 12,
   "id": "5ccba9ff-410a-4cd8-b3cc-022850e22aff",
   "metadata": {},
   "outputs": [
    {
     "name": "stdout",
     "output_type": "stream",
     "text": [
      "books.csv has been created successfully.\n"
     ]
    }
   ],
   "source": [
    "import csv\n",
    "\n",
    "data = [\n",
    "    [\"title\", \"author\", \"year\"],\n",
    "    [\"The Weirdstone of Brisingamen\", \"Alan Garner\", 1960],\n",
    "    [\"Perdido Street Station\", \"China Miéville\", 2000],\n",
    "    [\"Thud!\", \"Terry Pratchett\", 2005],\n",
    "    [\"The Spellman Files\", \"Lisa Lutz\", 2007],\n",
    "    [\"Small Gods\", \"Terry Pratchett\", 1992],\n",
    "]\n",
    "\n",
    "with open('books.csv', 'w', newline='', encoding='utf-8') as file:\n",
    "    writer = csv.writer(file)\n",
    "    writer.writerows(data)\n",
    "\n",
    "print(\"books.csv has been created successfully.\")"
   ]
  },
  {
   "cell_type": "markdown",
   "id": "7b23e7fd-9936-4f9b-814a-587bde8a067c",
   "metadata": {},
   "source": [
    "16.4 Use the sqlite3 module to create a SQLite database called books.db and a table called books with these fields: title (text), author (text), and year (integer)."
   ]
  },
  {
   "cell_type": "code",
   "execution_count": 15,
   "id": "8b36ee9f-5e15-4aab-ae68-401bc569449f",
   "metadata": {},
   "outputs": [
    {
     "name": "stdout",
     "output_type": "stream",
     "text": [
      "Database 'books.db' and table 'books' created successfully.\n"
     ]
    }
   ],
   "source": [
    "import sqlite3\n",
    "\n",
    "db = sqlite3.connect('books.db')\n",
    "curs = db.cursor()\n",
    "\n",
    "curs.execute('''\n",
    "    CREATE TABLE IF NOT EXISTS books (\n",
    "        title TEXT,\n",
    "        author TEXT,\n",
    "        year INTEGER\n",
    "    )\n",
    "''')\n",
    "\n",
    "db.commit()\n",
    "db.close()\n",
    "\n",
    "print(\"Database 'books.db' and table 'books' created successfully.\")"
   ]
  },
  {
   "cell_type": "markdown",
   "id": "2eec1dda-cdda-47d6-ac51-8b108a6cd11e",
   "metadata": {},
   "source": [
    "16.5 Read books2.csv and insert its data into the book table."
   ]
  },
  {
   "cell_type": "code",
   "execution_count": 20,
   "id": "2f89c3d0-293f-46f6-b947-89709a96ccc9",
   "metadata": {},
   "outputs": [
    {
     "name": "stdout",
     "output_type": "stream",
     "text": [
      "Data from 'books2.csv' has been inserted into the 'books' table.\n"
     ]
    }
   ],
   "source": [
    "import csv\n",
    "import sqlite3\n",
    "\n",
    "db = sqlite3.connect('books.db')\n",
    "curs = db.cursor()\n",
    "\n",
    "insert_query = 'INSERT INTO books (title, author, year) VALUES (?, ?, ?)'\n",
    "\n",
    "with open('books.csv', 'r', encoding='utf-8') as csvfile:\n",
    "    reader = csv.DictReader(csvfile) \n",
    "    for row in reader:\n",
    "        curs.execute(insert_query, (row['title'], row['author'], int(row['year'])))\n",
    "\n",
    "db.commit()\n",
    "db.close()\n",
    "\n",
    "print(\"Data from 'books2.csv' has been inserted into the 'books' table.\")"
   ]
  },
  {
   "cell_type": "markdown",
   "id": "d5065807-6647-4eb4-8d06-00adbf3e0841",
   "metadata": {},
   "source": [
    "16.6 Select and print the title column from the book table in alphabetical order."
   ]
  },
  {
   "cell_type": "code",
   "execution_count": 32,
   "id": "ab98a585-2055-43d1-a6fe-1d4ae7ba85ea",
   "metadata": {},
   "outputs": [
    {
     "name": "stdout",
     "output_type": "stream",
     "text": [
      "Perdido Street Station\n",
      "Small Gods\n",
      "The Spellman Files\n",
      "The Weirdstone of Brisingamen\n",
      "Thud!\n"
     ]
    }
   ],
   "source": [
    "import sqlite3\n",
    "\n",
    "db = sqlite3.connect('books.db')\n",
    "curs = db.cursor()\n",
    "\n",
    "query = 'SELECT title FROM books ORDER BY title ASC'\n",
    "\n",
    "curs.execute(query)\n",
    "rows = curs.fetchall()\n",
    "\n",
    "for row in rows:\n",
    "    print(row[0])\n",
    "\n",
    "db.close()"
   ]
  },
  {
   "cell_type": "markdown",
   "id": "afb410f2-edb4-4b04-9cd6-8dcef6e4953c",
   "metadata": {},
   "source": [
    "16.7 Select and print all columns from the book table in order of publication."
   ]
  },
  {
   "cell_type": "code",
   "execution_count": 35,
   "id": "4812452a-28e2-4515-8bc8-0c92faa10261",
   "metadata": {},
   "outputs": [
    {
     "name": "stdout",
     "output_type": "stream",
     "text": [
      "Books in order of publication:\n",
      "Title: The Weirdstone of Brisingamen, Author: Alan Garner, Year: 1960\n",
      "Title: Small Gods, Author: Terry Pratchett, Year: 1992\n",
      "Title: Perdido Street Station, Author: China Miéville, Year: 2000\n",
      "Title: Thud!, Author: Terry Pratchett, Year: 2005\n",
      "Title: The Spellman Files, Author: Lisa Lutz, Year: 2007\n"
     ]
    }
   ],
   "source": [
    "import sqlite3\n",
    "\n",
    "db = sqlite3.connect('books.db')\n",
    "curs = db.cursor()\n",
    "\n",
    "query = 'SELECT * FROM books ORDER BY year ASC'\n",
    "\n",
    "curs.execute(query)\n",
    "rows = curs.fetchall()\n",
    "\n",
    "print(\"Books in order of publication:\")\n",
    "for row in rows:\n",
    "    print(f\"Title: {row[0]}, Author: {row[1]}, Year: {row[2]}\")\n",
    "\n",
    "db.close()"
   ]
  },
  {
   "cell_type": "markdown",
   "id": "98533a4e-d46b-4077-9652-e029730c8e5f",
   "metadata": {},
   "source": [
    "16.8 Use the sqlalchemy module to connect to the sqlite3 database books.db that you just made in exercise 16.4. As in 16.6, select and print the title column from the book table in alphabetical order."
   ]
  },
  {
   "cell_type": "code",
   "execution_count": 43,
   "id": "1fa73b55-d99c-4e50-9b02-aa94ba120095",
   "metadata": {},
   "outputs": [
    {
     "name": "stdout",
     "output_type": "stream",
     "text": [
      "Titles in alphabetical order:\n",
      "Perdido Street Station\n",
      "Small Gods\n",
      "The Spellman Files\n",
      "The Weirdstone of Brisingamen\n",
      "Thud!\n"
     ]
    }
   ],
   "source": [
    "import sqlalchemy\n",
    "from sqlalchemy.sql import text\n",
    "\n",
    "engine = sqlalchemy.create_engine('sqlite:///books.db')\n",
    "\n",
    "query = text('SELECT title FROM books ORDER BY title ASC')\n",
    "\n",
    "with engine.connect() as connection:\n",
    "    result = connection.execute(query)\n",
    "    print(\"Titles in alphabetical order:\")\n",
    "    for row in result:\n",
    "        print(row[0])"
   ]
  },
  {
   "cell_type": "code",
   "execution_count": null,
   "id": "1aa5aed9-3bfb-4e0e-8b7f-2c5e1e0bda9f",
   "metadata": {},
   "outputs": [],
   "source": []
  }
 ],
 "metadata": {
  "kernelspec": {
   "display_name": "Python 3 (ipykernel)",
   "language": "python",
   "name": "python3"
  },
  "language_info": {
   "codemirror_mode": {
    "name": "ipython",
    "version": 3
   },
   "file_extension": ".py",
   "mimetype": "text/x-python",
   "name": "python",
   "nbconvert_exporter": "python",
   "pygments_lexer": "ipython3",
   "version": "3.12.4"
  }
 },
 "nbformat": 4,
 "nbformat_minor": 5
}
